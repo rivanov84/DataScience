{
 "cells": [
  {
   "cell_type": "code",
   "execution_count": 2,
   "metadata": {},
   "outputs": [
    {
     "name": "stdout",
     "output_type": "stream",
     "text": [
      "import pandas as pd\n",
      "import numpy as np\n",
      "import matplotlib.pyplot as plt\n",
      "\n",
      "world_food_facts = pd.read_csv('../input/FoodFacts.csv')\n",
      "world_food_facts.countries = world_food_facts.countries.str.lower()\n",
      "    \n",
      "def mean(l):\n",
      "    return float(sum(l)) / len(l)\n",
      "\n",
      "world_additives = world_food_facts[world_food_facts.additives_n.notnull()]\n",
      "\n",
      "def return_additives(country):\n",
      "    return world_additives[world_additives.countries == country].additives_n.tolist()\n",
      "    \n",
      "# Get list of additives amounts for some countries\n",
      "fr_additives = return_additives('france') + return_additives('en:fr')\n",
      "za_additives = return_additives('south africa')\n",
      "uk_additives = return_additives('united kingdom') + return_additives('en:gb')\n",
      "us_additives = return_additives('united states') + return_additives('en:us') + return_additives('us')\n",
      "sp_additives = return_additives('spain') + return_additives('españa') + return_additives('en:es')\n",
      "ch_additives = return_additives('china')\n",
      "nd_additives = return_additives('netherlands') + return_additives('holland')\n",
      "au_additives = return_additives('australia') + return_additives('en:au')\n",
      "jp_additives = return_additives('japan') + return_additives('en:jp')\n",
      "de_additives = return_additives('germany')\n",
      "\n",
      "countries = ['FR', 'ZA', 'UK', 'US', 'ES', 'CH', 'ND', 'AU', 'JP', 'DE']\n",
      "additives_l = [mean(fr_additives), \n",
      "            mean(za_additives), \n",
      "            mean(uk_additives), \n",
      "            mean(us_additives), \n",
      "            mean(sp_additives), \n",
      "            mean(ch_additives),\n",
      "            mean(nd_additives),\n",
      "            mean(au_additives),\n",
      "            mean(jp_additives),\n",
      "            mean(de_additives)]\n",
      "\n",
      "y_pos = np.arange(len(countries))\n",
      "    \n",
      "plt.bar(y_pos, sodium_l, align='center', alpha=0.5)\n",
      "plt.title('Average amount of additives')\n",
      "plt.xticks(y_pos, countries)\n",
      "plt.ylabel('Amount of additives')\n",
      "    \n",
      "plt.show()\n"
     ]
    }
   ],
   "source": [
    "print(\"import pandas as pd\\nimport numpy as np\\nimport matplotlib.pyplot as plt\\n\\nworld_food_facts = pd.read_csv('../input/FoodFacts.csv')\\nworld_food_facts.countries = world_food_facts.countries.str.lower()\\n    \\ndef mean(l):\\n    return float(sum(l)) / len(l)\\n\\nworld_additives = world_food_facts[world_food_facts.additives_n.notnull()]\\n\\ndef return_additives(country):\\n    return world_additives[world_additives.countries == country].additives_n.tolist()\\n    \\n# Get list of additives amounts for some countries\\nfr_additives = return_additives('france') + return_additives('en:fr')\\nza_additives = return_additives('south africa')\\nuk_additives = return_additives('united kingdom') + return_additives('en:gb')\\nus_additives = return_additives('united states') + return_additives('en:us') + return_additives('us')\\nsp_additives = return_additives('spain') + return_additives('españa') + return_additives('en:es')\\nch_additives = return_additives('china')\\nnd_additives = return_additives('netherlands') + return_additives('holland')\\nau_additives = return_additives('australia') + return_additives('en:au')\\njp_additives = return_additives('japan') + return_additives('en:jp')\\nde_additives = return_additives('germany')\\n\\ncountries = ['FR', 'ZA', 'UK', 'US', 'ES', 'CH', 'ND', 'AU', 'JP', 'DE']\\nadditives_l = [mean(fr_additives), \\n            mean(za_additives), \\n            mean(uk_additives), \\n            mean(us_additives), \\n            mean(sp_additives), \\n            mean(ch_additives),\\n            mean(nd_additives),\\n            mean(au_additives),\\n            mean(jp_additives),\\n            mean(de_additives)]\\n\\ny_pos = np.arange(len(countries))\\n    \\nplt.bar(y_pos, sodium_l, align='center', alpha=0.5)\\nplt.title('Average amount of additives')\\nplt.xticks(y_pos, countries)\\nplt.ylabel('Amount of additives')\\n    \\nplt.show()\")\n",
    "   "
   ]
  },
  {
   "cell_type": "code",
   "execution_count": null,
   "metadata": {},
   "outputs": [],
   "source": []
  }
 ],
 "metadata": {
  "kernelspec": {
   "display_name": "Python 3",
   "language": "python",
   "name": "python3"
  },
  "language_info": {
   "codemirror_mode": {
    "name": "ipython",
    "version": 3
   },
   "file_extension": ".py",
   "mimetype": "text/x-python",
   "name": "python",
   "nbconvert_exporter": "python",
   "pygments_lexer": "ipython3",
   "version": "3.6.8"
  }
 },
 "nbformat": 4,
 "nbformat_minor": 2
}
